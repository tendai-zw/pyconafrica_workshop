{
 "cells": [
  {
   "cell_type": "markdown",
   "metadata": {},
   "source": [
    "# Pycon Africa - Developing Maltego Transform Using Python\n",
    "##  Automating Transforms"
   ]
  },
  {
   "cell_type": "markdown",
   "metadata": {},
   "source": [
    "*By Tendai Marengereke - @marengz*"
   ]
  },
  {
   "cell_type": "markdown",
   "metadata": {},
   "source": [
    "The Maltego scripting language allows you to automate the running of transform in Maltego. Machines run on entities just like transforms. The input entity of the machine will be the same as the input entity of the first transform of the machine.\n",
    "\n",
    "Every machine starts with a header that describes the machine:"
   ]
  },
  {
   "cell_type": "markdown",
   "metadata": {},
   "source": [
    "## Step 1 : Create a New Machine\n",
    "\n",
    "![image](https://i.imgur.com/bo8VMJL.png)"
   ]
  },
  {
   "cell_type": "markdown",
   "metadata": {},
   "source": [
    "## Step 2: Configure Details\n",
    "![link](https://i.imgur.com/WDXFL8n.png)"
   ]
  },
  {
   "cell_type": "markdown",
   "metadata": {},
   "source": [
    "## Step 3: Choose type\n",
    "![link](https://i.imgur.com/iFft9ik.png)"
   ]
  },
  {
   "cell_type": "markdown",
   "metadata": {},
   "source": [
    "## Step 4: Configure Code \n",
    "This section uses Maltego Scripting Language - very simple to follow. \n",
    "For more info open [Machine Documentation](https://docs.maltego.com/support/solutions/articles/15000019249-machines-transform-macros-)"
   ]
  },
  {
   "cell_type": "raw",
   "metadata": {},
   "source": [
    "//Welcome to Maltego Machines!\n",
    "\n",
    "//Each machine starts with a statement like this\n",
    "machine(\"tm.PyConAfrica\", \n",
    "        displayName:\"PyConAfrica Machine\", \n",
    "        author:\"TM\",\n",
    "        description: \"Testing Machine\") {\n",
    "\n",
    "    //A macro machine has a start function like this\n",
    "    start {\n",
    "\n",
    "        //Put the sequence of transforms to run in here...\n",
    "\n",
    "        //For example, We will start with a Company Entity and search for companies\n",
    "        run(\"tendaimarengereke.SearchGermanCompany\") // This is the\n",
    "        run(\"tm.SearchOfficers\")\n",
    "        run(\"paterva.v2.PersonToEmailAddress_SE\")\n",
    "\n",
    "    }\n",
    "}\n",
    "//Of course there is much more you can do with machines... Have fun!\n"
   ]
  },
  {
   "cell_type": "markdown",
   "metadata": {},
   "source": [
    "![link](https://i.imgur.com/8MHTx03.png)"
   ]
  },
  {
   "cell_type": "markdown",
   "metadata": {},
   "source": [
    "## Step 5: Run The Machine"
   ]
  },
  {
   "cell_type": "markdown",
   "metadata": {},
   "source": [
    "![link](https://i.imgur.com/srZY9RP.png)"
   ]
  },
  {
   "cell_type": "markdown",
   "metadata": {},
   "source": [
    "# Thank You"
   ]
  },
  {
   "cell_type": "code",
   "execution_count": null,
   "metadata": {},
   "outputs": [],
   "source": []
  }
 ],
 "metadata": {
  "kernelspec": {
   "display_name": "Python 3",
   "language": "python",
   "name": "python3"
  },
  "language_info": {
   "codemirror_mode": {
    "name": "ipython",
    "version": 3
   },
   "file_extension": ".py",
   "mimetype": "text/x-python",
   "name": "python",
   "nbconvert_exporter": "python",
   "pygments_lexer": "ipython3",
   "version": "3.7.3"
  }
 },
 "nbformat": 4,
 "nbformat_minor": 2
}

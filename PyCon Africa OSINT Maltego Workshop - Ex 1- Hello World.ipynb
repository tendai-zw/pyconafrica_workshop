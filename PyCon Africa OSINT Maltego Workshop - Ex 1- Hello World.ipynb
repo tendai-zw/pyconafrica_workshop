{
 "cells": [
  {
   "cell_type": "markdown",
   "metadata": {},
   "source": [
    "# Pycon Africa - Developing Maltego Transform Using Python \n"
   ]
  },
  {
   "cell_type": "markdown",
   "metadata": {},
   "source": [
    "### By Tendai Marengereke - @marengz \n",
    "![Maltego](https://s3.eu-central-1.amazonaws.com/euc-cdn.freshdesk.com/data/helpdesk/attachments/production/15003703853/logo/S9Zo5lDcEal_BOxSI6kXgxymhP_kN27jYQ.png)"
   ]
  },
  {
   "cell_type": "markdown",
   "metadata": {},
   "source": [
    "Maltego is a tool for interactive link analysis and data gathering. Like any large and powerful software package, it can be overwhelming at first. This workshop starts with the basics of Maltego and introduces the attendee to the tool and its transforms for network and OSINT analysis. We also explore the use of Maltego when investigating breached passwords. \n",
    "\n",
    "The main aim of this workshop is to provide an introduction to Maltego and the process of coding Maltego transforms using Python. "
   ]
  },
  {
   "cell_type": "markdown",
   "metadata": {},
   "source": [
    "## Create a Virtual Environment"
   ]
  },
  {
   "cell_type": "markdown",
   "metadata": {},
   "source": [
    "I use virtualenvwrapper-win on windows or virtualenvwrapper but feel free to use what you prefer.  run the following command in cmd with your virtualenv activated. "
   ]
  },
  {
   "cell_type": "markdown",
   "metadata": {},
   "source": [
    "## mkvirtualenv pyconafrica"
   ]
  },
  {
   "cell_type": "markdown",
   "metadata": {},
   "source": [
    "# Step 1 : Create a project folder"
   ]
  },
  {
   "cell_type": "markdown",
   "metadata": {},
   "source": [
    "First install the maltego-trx library by running the following commands:"
   ]
  },
  {
   "cell_type": "markdown",
   "metadata": {},
   "source": [
    "## pip install maltego-trx"
   ]
  },
  {
   "cell_type": "markdown",
   "metadata": {},
   "source": [
    "After the maltego-trx library has been installed, you can use the following command to create a new project folder with the recommended layout:"
   ]
  },
  {
   "cell_type": "markdown",
   "metadata": {},
   "source": [
    "## maltego-trx start pyconafrica"
   ]
  },
  {
   "cell_type": "markdown",
   "metadata": {},
   "source": [
    "The command above creates a directory named \"pyconafrica\" which contains the \"project.py\" file used to run your transforms, and the \"transforms\" directory that contains your transform code. This produces a directory structure as shown below. Two Example Transforms are added automatically."
   ]
  },
  {
   "cell_type": "raw",
   "metadata": {},
   "source": [
    "C:.\n",
    "└───pyconafrica\n",
    "    │   project.py\n",
    "    │\n",
    "    └───transforms\n",
    "        │   DNSToIP.py\n",
    "        │   GreetPerson.py\n",
    "        │   __init__.py\n",
    "        │\n",
    "        └───__pycache__\n",
    "                DNSToIP.cpython-37.pyc\n",
    "                GreetPerson.cpython-37.pyc\n",
    "                __init__.cpython-37.pyc\n"
   ]
  },
  {
   "cell_type": "markdown",
   "metadata": {},
   "source": [
    "# Step 2 : Default Example Transforms"
   ]
  },
  {
   "cell_type": "markdown",
   "metadata": {},
   "source": [
    "*pyconafrica/transforms/GreetPerson.py*"
   ]
  },
  {
   "cell_type": "code",
   "execution_count": 1,
   "metadata": {},
   "outputs": [],
   "source": [
    "from maltego_trx.entities import Phrase\n",
    "from maltego_trx.transform import DiscoverableTransform\n",
    "\n",
    "\n",
    "class GreetPerson(DiscoverableTransform):\n",
    "    \"\"\"\n",
    "    Returns a phrase greeting a person on the graph.\n",
    "    \"\"\"\n",
    "    @classmethod\n",
    "    def create_entities(cls, request, response):\n",
    "        person_name = request.Value\n",
    "\n",
    "        response.addEntity(Phrase, \"Hi %s, nice to meet you!\" % person_name)\n",
    "        "
   ]
  },
  {
   "cell_type": "markdown",
   "metadata": {},
   "source": [
    "This transform will not return anything to the console, but we can check that the transform has been discovered by the library using the following command in \"pythonafrica\" directory:"
   ]
  },
  {
   "cell_type": "markdown",
   "metadata": {},
   "source": [
    "inside *pyconafrica/* run the following in cmd"
   ]
  },
  {
   "cell_type": "markdown",
   "metadata": {},
   "source": [
    "## python project.py list"
   ]
  },
  {
   "cell_type": "markdown",
   "metadata": {},
   "source": [
    "The above command is used to show the transforms which have been discovered by the library and are ready to use in the Maltego Client. It should output the following:"
   ]
  },
  {
   "cell_type": "raw",
   "metadata": {},
   "source": [
    "C:\\pyconafrica\\\n",
    "λ python project.py list\n",
    "\n",
    "= Transform Server URLs =\n",
    "/run/dnstoip/: DNSToIP\n",
    "/run/greetperson/: GreetPerson\n",
    "\n",
    "\n",
    "= Local Transform Names =\n",
    "dnstoip: DNSToIP\n",
    "greetperson: GreetPerson"
   ]
  },
  {
   "cell_type": "markdown",
   "metadata": {},
   "source": [
    "# Running The Transform Server"
   ]
  },
  {
   "cell_type": "markdown",
   "metadata": {},
   "source": [
    "You can start the development server, by running the following command:"
   ]
  },
  {
   "cell_type": "markdown",
   "metadata": {},
   "source": [
    "## python project.py runserver"
   ]
  },
  {
   "cell_type": "markdown",
   "metadata": {},
   "source": [
    "This will startup a development server that automatically reloads every time the code"
   ]
  },
  {
   "cell_type": "markdown",
   "metadata": {},
   "source": [
    "# Adding the transform to Maltego"
   ]
  },
  {
   "cell_type": "markdown",
   "metadata": {},
   "source": [
    "![Add Local Transforms](https://s3-eu-central-1.amazonaws.com/euc-cdn.freshdesk.com/data/helpdesk/attachments/production/15008885846/original/4iNHwg0zGFGfKM3BHHG2xyGcOqSqPA4gDg.png?1542716349)"
   ]
  },
  {
   "cell_type": "markdown",
   "metadata": {},
   "source": [
    "This will open a new wizard that guide you through the process of adding a new local transform.\n",
    "\n",
    "\n",
    "The first page allows you to describe the new transform. The most important details are the \"Transform ID\" (which must be unique) and Input Entity Type."
   ]
  },
  {
   "cell_type": "markdown",
   "metadata": {},
   "source": [
    "![Step 1](https://i.imgur.com/W1GXkaV.png)"
   ]
  },
  {
   "cell_type": "markdown",
   "metadata": {},
   "source": [
    "The next page allows you to specify the settings used to execute the transform. "
   ]
  },
  {
   "cell_type": "markdown",
   "metadata": {},
   "source": [
    "![Step 2](https://i.imgur.com/hqwdiT4.png)"
   ]
  },
  {
   "cell_type": "raw",
   "metadata": {},
   "source": [
    "The \"command\" field should be the absolute path of the interpreter that will execute your transform. In this case I will use the path for my Python installation, which is C:\\Users     \n",
    "\\<username>\\Envs\\<env_name>\\Scripts\\python.exe\n",
    "\n",
    "The \"parameters\" field will need to include \"project.py\" to tell Python that we want to execute our project file. We will also need to include the parameter \"local\" to tell our project it's being run locally and the transform name to run. If you are unsure what transform name to use, you can use the following command:"
   ]
  },
  {
   "cell_type": "markdown",
   "metadata": {},
   "source": [
    "# python project.py list"
   ]
  },
  {
   "cell_type": "raw",
   "metadata": {},
   "source": [
    "C:\\pyconafrica\\\n",
    "λ python project.py list\n",
    "\n",
    "= Transform Server URLs =\n",
    "/run/dnstoip/: DNSToIP\n",
    "/run/greetperson/: GreetPerson\n",
    "\n",
    "\n",
    "= Local Transform Names =\n",
    "dnstoip: DNSToIP\n",
    "greetperson: GreetPerson"
   ]
  },
  {
   "cell_type": "markdown",
   "metadata": {},
   "source": [
    "The Parameters for our Transform are \n",
    "\n",
    "project.py local greetperson\n",
    "\n",
    "The \"Working Directory\" filed should be set to your project folder, in this case pyconafrica\n",
    "\n",
    "\n",
    "The should be all that is required, and you can now click \"Finish\" to save the local transform."
   ]
  },
  {
   "cell_type": "markdown",
   "metadata": {},
   "source": [
    "# Running the Transform"
   ]
  },
  {
   "cell_type": "markdown",
   "metadata": {},
   "source": [
    "![Run transform](https://i.imgur.com/K4O22ax.png)"
   ]
  },
  {
   "cell_type": "markdown",
   "metadata": {},
   "source": [
    "![Run](https://i.imgur.com/IH2qxhM.png)"
   ]
  },
  {
   "cell_type": "markdown",
   "metadata": {},
   "source": [
    " We are Done Now.  \n",
    " *I think I'm quite ready for another adventure\"* - Frodo Baggins "
   ]
  }
 ],
 "metadata": {
  "kernelspec": {
   "display_name": "Python 3",
   "language": "python",
   "name": "python3"
  },
  "language_info": {
   "codemirror_mode": {
    "name": "ipython",
    "version": 3
   },
   "file_extension": ".py",
   "mimetype": "text/x-python",
   "name": "python",
   "nbconvert_exporter": "python",
   "pygments_lexer": "ipython3",
   "version": "3.7.3"
  }
 },
 "nbformat": 4,
 "nbformat_minor": 2
}

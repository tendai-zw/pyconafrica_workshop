{
 "cells": [
  {
   "cell_type": "markdown",
   "metadata": {},
   "source": [
    "# German Company Data Transforms - Open Registry"
   ]
  },
  {
   "cell_type": "markdown",
   "metadata": {},
   "source": [
    "![opencorporate](https://opencorporates.com/assets/home/logo-97c819499e244a5ab0aacf36cc00c4f9.svg)"
   ]
  },
  {
   "cell_type": "markdown",
   "metadata": {},
   "source": [
    "German Company records are avalaible in the open and in this tutorial we will be using that data. You have a financial investigation that requires to find the information about companies. The Data is released by a company called Open Corporates that is pushing for Open Data. "
   ]
  },
  {
   "cell_type": "markdown",
   "metadata": {},
   "source": [
    "# Financial Investigation Use Case"
   ]
  },
  {
   "cell_type": "markdown",
   "metadata": {},
   "source": [
    "This data can help anyone looking to investigate different cases, e.g. Fraud, Who owns what, who are directors in a company?"
   ]
  },
  {
   "cell_type": "markdown",
   "metadata": {},
   "source": [
    "# [Link to the Open Registry Data API](https://db.offeneregister.de/)\n",
    "\n",
    "\n",
    "# Links to the Open Registry Data Download Page\n",
    "\n",
    "https://daten.offeneregister.de/openregister.db.gz.torrent ~ 740MB\n",
    "https://daten.offeneregister.de/openregister.db.gz  ~ 740 MB\n"
   ]
  },
  {
   "cell_type": "markdown",
   "metadata": {},
   "source": [
    "Search for company_number = \"H1101_H1101_HRB18423\"  in DB"
   ]
  },
  {
   "cell_type": "markdown",
   "metadata": {},
   "source": [
    "# [Link to the Open Corporates Data Entry](https://opencorporates.com/companies/de/H1101_H1101_HRB18423)"
   ]
  },
  {
   "cell_type": "markdown",
   "metadata": {},
   "source": [
    "# Transform 1 - Search German Company\n",
    "\n",
    "This Transform Searchs the DB for possible matches of the company"
   ]
  },
  {
   "cell_type": "markdown",
   "metadata": {},
   "source": [
    "Create file\n",
    "\n",
    "*pyconafrica/transforms/SearchCompany.py*\n",
    "\n",
    "add code below\n"
   ]
  },
  {
   "cell_type": "code",
   "execution_count": 9,
   "metadata": {},
   "outputs": [],
   "source": [
    "from maltego_trx.maltego import UIM_TYPES\n",
    "\n",
    "from maltego_trx.transform import DiscoverableTransform\n",
    "import sqlite3\n",
    "import re\n",
    "\n",
    "\n",
    "class SearchCompany(DiscoverableTransform):\n",
    "    \"\"\"\n",
    "    This will return all the companies which contains the phrase\n",
    "    \n",
    "    Input Entity: Phrase\n",
    "    Output Entity: Company\n",
    "    \"\"\"\n",
    "\n",
    "    @classmethod\n",
    "    def create_entities(cls, request, response):\n",
    "        try:\n",
    "            companyName = request.Value  # Value Retrieved from the Maltego Request\n",
    "            companyName = re.sub('[,!.&\"()-:]', ' ', companyName)  #replacing special charactes with space\n",
    "\n",
    "            \n",
    "            QUERY = \"SELECT ROWID FROM company_fts WHERE name MATCH '\" + companyName + \"' order by rank\" # uses SQLITE FTS5\n",
    "            #to quickly search the DB\n",
    "\n",
    "            conn = sqlite3.connect('C:\\\\handelsregister.db')# change this to path of your DB\n",
    "            cursor = conn.execute(QUERY) \n",
    "            \n",
    "            for row in cursor:  \n",
    "                QUERY = \"SELECT name, company_number, current_status, registered_address, native_company_number \" \\\n",
    "                        \"FROM company \" \\\n",
    "                        \"WHERE ROWID = \" + str(row[0])\n",
    "                cursor = conn.execute(QUERY)\n",
    "                for row1 in cursor:\n",
    "                    companyTableE = response.addEntity(\"maltego.Company\", row1[0])\n",
    "                    companyTableE.addProperty('companynumber', 'Company Number', 'strict', row1[1])\n",
    "                    companyTableE.addProperty('registrationstatus', 'Registration Status', 'strict', row1[2])\n",
    "                    companyTableE.addProperty('registeredaddress', 'Registered Address', 'strict', row1[3])\n",
    "                    companyTableE.addProperty('nativecompanynumber', 'Native Company Number', 'strict', row1[4])\n",
    "            conn.close()\n",
    "        except Exception as e:\n",
    "            response.addUIMessage(\"Error: \" + str(e), UIM_TYPES[\"partial\"])\n"
   ]
  },
  {
   "cell_type": "code",
   "execution_count": null,
   "metadata": {},
   "outputs": [],
   "source": []
  },
  {
   "cell_type": "markdown",
   "metadata": {},
   "source": [
    "# Transform Number 2 - Search Officers"
   ]
  },
  {
   "cell_type": "markdown",
   "metadata": {},
   "source": [
    "Create file\n",
    "\n",
    "*pyconafrica/transforms/SearchOfficers.py*\n",
    "\n",
    "add code below"
   ]
  },
  {
   "cell_type": "code",
   "execution_count": 10,
   "metadata": {},
   "outputs": [],
   "source": [
    "from maltego_trx.maltego import UIM_TYPES\n",
    "from maltego_trx.entities import Person\n",
    "from maltego_trx.transform import DiscoverableTransform\n",
    "import sqlite3\n",
    "import re\n",
    "\n",
    "\n",
    "\n",
    "class SearchOfficers(DiscoverableTransform):\n",
    "    \"\"\"\n",
    "    This will return all the officers within a given Company\n",
    "    Input Entity: maltego.Company\n",
    "    Output Entity: maltego.Person\n",
    "\n",
    "    \"\"\"\n",
    "\n",
    "    @classmethod\n",
    "    def create_entities(cls, request, response):\n",
    "        try:\n",
    "            \n",
    "            company_number = request.getProperty('companynumber')\n",
    "\n",
    "            QUERY = \" SELECT company.name, officer.position, officer.type, officer.name FROM company \\\n",
    "                     INNER JOIN officer ON company.company_number = officer.company_id \\\n",
    "                     WHERE  company.company_number = '\" + company_number+ \"'\"\n",
    "\n",
    "            conn = sqlite3.connect('C:\\\\handelsregister.db')\n",
    "            rowcursor = conn.execute(QUERY)\n",
    "\n",
    "            for row1 in rowcursor:\n",
    "                officerPerson = response.addEntity(Person, row1[3])\n",
    "                officerPerson.addProperty('position', 'Position', 'strict', row1[1])\n",
    "\n",
    "            conn.close()\n",
    "        except Exception as e:\n",
    "            response.addUIMessage(\"Company Number or Company Name not found in the entity\\n\"    \n",
    "                                  \"Error: \" + str(e), UIM_TYPES[\"partial\"])\n"
   ]
  },
  {
   "cell_type": "code",
   "execution_count": null,
   "metadata": {},
   "outputs": [],
   "source": []
  }
 ],
 "metadata": {
  "kernelspec": {
   "display_name": "Python 3",
   "language": "python",
   "name": "python3"
  },
  "language_info": {
   "codemirror_mode": {
    "name": "ipython",
    "version": 3
   },
   "file_extension": ".py",
   "mimetype": "text/x-python",
   "name": "python",
   "nbconvert_exporter": "python",
   "pygments_lexer": "ipython3",
   "version": "3.7.3"
  }
 },
 "nbformat": 4,
 "nbformat_minor": 2
}

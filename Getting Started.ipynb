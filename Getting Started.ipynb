{
 "cells": [
  {
   "cell_type": "markdown",
   "metadata": {},
   "source": [
    "# Pycon Africa - Developing Maltego Transform Using Python"
   ]
  },
  {
   "cell_type": "markdown",
   "metadata": {},
   "source": [
    "### By Tendai Marengereke - @marengz"
   ]
  },
  {
   "cell_type": "markdown",
   "metadata": {},
   "source": [
    "# Maltego Data Flow\n",
    "\n",
    "![image](https://i.imgur.com/R1z2gAt.png)"
   ]
  },
  {
   "cell_type": "markdown",
   "metadata": {},
   "source": [
    "# Maltego Request Example\n",
    "\n",
    "![image](https://i.imgur.com/XgYL1jg.png)\n",
    "\n"
   ]
  },
  {
   "cell_type": "markdown",
   "metadata": {},
   "source": [
    "# Maltego Response Example \n",
    "\n",
    "![Image](https://i.imgur.com/fRlvnqM.png)"
   ]
  },
  {
   "cell_type": "markdown",
   "metadata": {},
   "source": [
    "\n",
    "\n",
    "## Maltego-TRX Reference -  [Link](https://github.com/paterva/maltego-trx/blob/master/README.md)\n",
    "### Constants\n",
    "The following constants can be imported from `maltego_trx.maltego`.\n",
    "\n",
    "**Message Types:**\n",
    " - `UIM_FATAL`\n",
    " - `UIM_PARTIAL`\n",
    " - `UIM_INFORM`\n",
    " - `UIM_DEBUG`\n",
    " \n",
    "**Bookmark Colors:**\n",
    " - `BOOKMARK_COLOR_NONE`\n",
    " - `BOOKMARK_COLOR_BLUE`\n",
    " - `BOOKMARK_COLOR_GREEN`\n",
    " - `BOOKMARK_COLOR_YELLOW`\n",
    " - `BOOKMARK_COLOR_PURPLE`\n",
    " - `BOOKMARK_COLOR_RED`\n",
    "\n",
    "**Link Styles:**\n",
    " - `LINK_STYLE_NORMAL`\n",
    " - `LINK_STYLE_DASHED`\n",
    " - `LINK_STYLE_DOTTED`\n",
    " - `LINK_STYLE_DASHDOT`\n",
    "\n",
    "\n",
    "\n",
    "### Request/MaltegoMsg\n",
    "The request/maltego msg object given to the transform contains the information about the input entity.\n",
    "\n",
    "**Attributes:**\n",
    " - `Value: str`: The display value of the input entity on the graph\n",
    " - `Weight: int`: The weight of the input entity\n",
    " - `Slider: int`: Results slider setting in the client\n",
    " - `Type: str`: The input entity type\n",
    " - `Properties: dict(str: str)`: A key-value dictionary of the input entity properties\n",
    " - `TransformSettings: dict(str: str)`: A key-value dictionary of the transform settings\n",
    "\n",
    "**Methods:**\n",
    " - `getProperty(name: str)`: get a property value of the input entity\n",
    " - `getTransformSetting(name: str)`: get a transform setting value\n",
    "\n",
    "### Response/MaltegoTransform\n",
    "\n",
    "**Methods:**\n",
    " - `addEntity(type: str, value: str) -> Entity`: Add an entity to the transform response. Returns an Entity object created by the method.\n",
    " - `addUIMessagte(msg: str, messageType='Inform')`: Return a UI message to the user. For message type, use a message type constant.\n",
    " \n",
    "### Entity\n",
    "\n",
    "**Methods:**\n",
    " - `setType(type: str)`: Set the entity type (e.g. \"Phrase\" for maltego.Phrase entity)\n",
    " - `setValue(value: str)`: Set the entity value\n",
    " - `setWeight(weight: int)`: Set the entity weight\n",
    " - `addDisplayInformation(content: str, title: str)`: Add display information for the entity.\n",
    " - `addProperty(fieldName: str, displayName: str, matchingRule: str, value: str)`: Add a property to the entity. Matching rule can be `strict` or `loose`.\n",
    " - `setIconURL(url: str)`: Set the entity icon URL\n",
    " - `setBookmark(bookmark: int)`: Set bookmark color index (e.g. -1 for BOOKMARK_COLOR_NONE, 3 for BOOKMARK_COLOR_PURPLE)\n",
    " - `setNote(note: str)`: Set note content\n",
    "\n",
    "**Link Methods:**\n",
    " - `setLinkColor(color: str)`: Set the link color (e.g. hex \"#0000FF\" for blue)\n",
    " - `setLinkStyle(style: int)`: Set the link style index (e.g. 0 for LINK_STYLE_NORMAL, 2 for LINK_STYLE_DOTTED)\n",
    " - `setLinkThickness(thick: int)`: Set link thickness (default is 1)\n",
    " - `setLinkLabel(label: str)`: Set the label of the link\n",
    " - `reverseLink()`: Reverse the link direction\n"
   ]
  }
 ],
 "metadata": {
  "kernelspec": {
   "display_name": "Python 3",
   "language": "python",
   "name": "python3"
  },
  "language_info": {
   "codemirror_mode": {
    "name": "ipython",
    "version": 3
   },
   "file_extension": ".py",
   "mimetype": "text/x-python",
   "name": "python",
   "nbconvert_exporter": "python",
   "pygments_lexer": "ipython3",
   "version": "3.7.3"
  }
 },
 "nbformat": 4,
 "nbformat_minor": 2
}
